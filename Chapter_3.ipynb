{
  "nbformat": 4,
  "nbformat_minor": 0,
  "metadata": {
    "colab": {
      "provenance": [],
      "mount_file_id": "https://github.com/mateusmelo821/ISL-Exercises/blob/main/Chapter_3.ipynb",
      "authorship_tag": "ABX9TyOtkx51cMq4rjMXaQMj4cOu"
    },
    "kernelspec": {
      "name": "python3",
      "display_name": "Python 3"
    },
    "language_info": {
      "name": "python"
    }
  },
  "cells": [
    {
      "cell_type": "markdown",
      "source": [
        "## Question 1"
      ],
      "metadata": {
        "id": "6fDXPPfNbNzI"
      }
    },
    {
      "cell_type": "markdown",
      "source": [
        "In this situation, $H_0$ is that there is no relationship between the money spent on advertisement by TV, radio and newspaper and the sales. Since all p-values are very low (below 0.0001), we can reject $H_0$. Therefore, all three formats indeed have an impact on the sales."
      ],
      "metadata": {
        "id": "CPAwQtQZbdWV"
      }
    },
    {
      "cell_type": "markdown",
      "source": [
        "## Question 2"
      ],
      "metadata": {
        "id": "TciZRzhIcKdu"
      }
    },
    {
      "cell_type": "markdown",
      "source": [
        "Both KNN classifier and KNN regression method consider the K closest point to the observation for which we have the intention of make a prediction. The main difference is that for the classifier, we give as a prediction the most common label from the K neighbors, whereas for the regression, we calculate a mean."
      ],
      "metadata": {
        "id": "HDMydYVTcMGF"
      }
    },
    {
      "cell_type": "markdown",
      "source": [
        "## Question 3"
      ],
      "metadata": {
        "id": "DLzvwvT5cv32"
      }
    },
    {
      "cell_type": "markdown",
      "source": [
        "### a)  "
      ],
      "metadata": {
        "id": "HqhB4CtFc_dO"
      }
    },
    {
      "cell_type": "markdown",
      "source": [
        "For a fixed value of IQ and GPA, college graduates earn more, on average, than high school graduates. This happens because, even though the interaction of GPA and level is negative, its impact in the starting salary is much lower than the impact of GPA and level alone."
      ],
      "metadata": {
        "id": "cnsB02cHdClO"
      }
    },
    {
      "cell_type": "markdown",
      "source": [
        "### b)"
      ],
      "metadata": {
        "id": "D0VQbZfFd_yu"
      }
    },
    {
      "cell_type": "code",
      "execution_count": null,
      "metadata": {
        "colab": {
          "base_uri": "https://localhost:8080/"
        },
        "id": "AmoJxGPRbE6Z",
        "outputId": "c6e44d36-54d6-4143-e9ba-380bbf3deec5"
      },
      "outputs": [
        {
          "output_type": "stream",
          "name": "stdout",
          "text": [
            "The predicted starting salary is: US$ 137100.0\n"
          ]
        }
      ],
      "source": [
        "b0 = 50\n",
        "b1 = 20\n",
        "b2 = 0.07\n",
        "b3 = 35\n",
        "b4 = 0.01\n",
        "b5 = -10\n",
        "\n",
        "GPA=4.0\n",
        "IQ=110\n",
        "level=1\n",
        "starting_salary = b0+b1*GPA+b2*IQ+b3*level+b4*GPA*IQ+b5*GPA*level\n",
        "print(\"The predicted starting salary is: US$\", 1000*starting_salary)"
      ]
    },
    {
      "cell_type": "markdown",
      "source": [
        "### c)"
      ],
      "metadata": {
        "id": "Hgkfrv1bebfP"
      }
    },
    {
      "cell_type": "markdown",
      "source": [
        "The fact that $\\hat{\\beta_3}$ is close to 0 is not enough evidence that the interection of GPA and IQ does not affect the starting salary. For making such a claim, its p-value would have to be analysed. Beyond that, considering that the IQ is, on average, close to a hundred, this interaction increases the impact of the GPA by 5%."
      ],
      "metadata": {
        "id": "TXCHwJZnf5p3"
      }
    },
    {
      "cell_type": "markdown",
      "source": [
        "## Question 4"
      ],
      "metadata": {
        "id": "ypL4nQ_GhRaI"
      }
    },
    {
      "cell_type": "markdown",
      "source": [
        "### a)"
      ],
      "metadata": {
        "id": "4HApZfj-hS0A"
      }
    },
    {
      "cell_type": "markdown",
      "source": [
        "Both models would have a very low RSS in the training dataset, but we expect the cubic model to have the lowest one, since the quadratic and cubic components would probably wrongly catch some of the irreducible error and treat it as part of the function."
      ],
      "metadata": {
        "id": "cOKlWQEuhUIQ"
      }
    },
    {
      "cell_type": "markdown",
      "source": [
        "### b)"
      ],
      "metadata": {
        "id": "bM9ur544iBxp"
      }
    },
    {
      "cell_type": "markdown",
      "source": [
        "As for the testing RSS, we expect the cubic model to have the highest, since it overfitted to training dataset."
      ],
      "metadata": {
        "id": "lsXCi1r5iGCQ"
      }
    },
    {
      "cell_type": "markdown",
      "source": [
        "### c)"
      ],
      "metadata": {
        "id": "ZjVI7c4YiUQA"
      }
    },
    {
      "cell_type": "markdown",
      "source": [
        "Considering a non-linear response, we expect the cubic model to have a better training RSS, since it is more flexible than the linear model. In this situation, it is very likely that the increase in variance is more than compensated by the loss in bias."
      ],
      "metadata": {
        "id": "FvZxMHSuimlI"
      }
    },
    {
      "cell_type": "markdown",
      "source": [
        "### d)"
      ],
      "metadata": {
        "id": "Bbt8VhpXi_6J"
      }
    },
    {
      "cell_type": "markdown",
      "source": [
        "This effect is also expected in the test RSS for a similar reason."
      ],
      "metadata": {
        "id": "mEEI9Sj5jBxJ"
      }
    },
    {
      "cell_type": "markdown",
      "source": [
        "## Question 5"
      ],
      "metadata": {
        "id": "ObXj7hhNjI45"
      }
    },
    {
      "cell_type": "markdown",
      "source": [
        "Given that $\\hat{y_i}=\\sum_{i'=1}^{n}{a_{i'}y_{i'}}$\n",
        "and that $\\hat{y_i}=\\hat{\\beta} x_i$,\n",
        "we have:\n",
        "\n",
        "$\\sum_{i'=1}^{n}{a_{i'}y_{i'}}=\\hat{\\beta} x_i$\n",
        "\n",
        "$\\sum_{i'=1}^{n}{a_{i'}y_{i'}}=\\frac{\\sum_{i'=1}^{n}{x_{i'}y_{i'}}}{\\sum_{j=}^{n}{x_{j}^2}}x_i$\n",
        "\n",
        "$\\sum_{i'=1}^{n}{a_{i'}y_{i'}}=\\sum_{i'=1}^{n}\\frac{{x_{i'}y_{i'}}}{\\sum_{j=}^{n}{x_{j}^2}}x_i$\n",
        "\n",
        "Since $x_i$ is a constant, we have:\n",
        "\n",
        "$\\sum_{i'=1}^{n}{a_{i'}y_{i'}}=\\sum_{i'=1}^{n}\\frac{{x_ix_{i'}y_{i'}}}{\\sum_{j=}^{n}{x_{j}^2}}$\n",
        "\n",
        "Therefore, we have:\n",
        "\n",
        "$a_{i'}=\\frac{{x_ix_{i'}}}{\\sum_{j=}^{n}{x_{j}^2}}$"
      ],
      "metadata": {
        "id": "iJBsl-DSjMUR"
      }
    },
    {
      "cell_type": "markdown",
      "source": [
        "## Question 6"
      ],
      "metadata": {
        "id": "fuKICdebAuh0"
      }
    },
    {
      "cell_type": "markdown",
      "source": [
        "Given that $\\hat{\\beta_1}=\\frac{\\sum_{i=1}^{n}{(x_i-\\bar{x})(y_i-\\bar{y})}}{\\sum_{i=1}^{n}{(x_i-\\bar{x})^2}}$, $\\hat{\\beta_0}=\\bar{y}-\\hat{\\beta_1}\\bar{x}$ and $\\hat{y}=\\hat{\\beta_0}+\\hat{\\beta_1}\\hat{x}$, we can find a value for $\\hat{x}$ such that $\\hat{y}=\\bar{y}$:\n",
        "\n",
        "$\\bar{y}=\\hat{\\beta_0}+\\hat{\\beta_1}\\hat{x}$\n",
        "\n",
        "$\\bar{y}=\\bar{y}-\\hat{\\beta_1}\\bar{x}+\\hat{\\beta_1}\\hat{x}$\n",
        "\n",
        "$\\hat{x}=\\bar{x}$\n",
        "\n",
        "Therefore, the least squares line always passes through the point $(\\bar{x}, \\bar{y})$."
      ],
      "metadata": {
        "id": "9lbqtihwAwtc"
      }
    },
    {
      "cell_type": "markdown",
      "source": [
        "## Question 7"
      ],
      "metadata": {
        "id": "S16pQjvGE0o9"
      }
    },
    {
      "cell_type": "markdown",
      "source": [
        "When $\\bar{x}=\\bar{y}=0$, we have that $R^2=1-\\frac{\\sum_{i=1}^{n}{(y_i-\\hat{y})^2}}{\\sum_{i=1}^{n}(y_i)}$.\n",
        "\n",
        "We also have that $cor(X,Y) = \\frac{\\sum_{i=1}^{n}{(x_i})(y_i)}{\\sqrt{\\sum_{i=1}^{n}{(x_i)^2}}\\sqrt{\\sum_{i=1}^{n}{(y_i)^2}}}$"
      ],
      "metadata": {
        "id": "1fTbcSFYE2id"
      }
    },
    {
      "cell_type": "markdown",
      "source": [
        "## Question 8"
      ],
      "metadata": {
        "id": "mLk6hNodMDho"
      }
    },
    {
      "cell_type": "markdown",
      "source": [
        "### a)"
      ],
      "metadata": {
        "id": "HTtOGbikMFoX"
      }
    },
    {
      "cell_type": "code",
      "source": [
        "from enum import auto\n",
        "import statsmodels.formula.api as sm\n",
        "import pandas as pd\n",
        "import numpy as np\n",
        "import seaborn as sns\n",
        "import matplotlib.pyplot as plt\n",
        "\n",
        "auto_path = \"/content/drive/MyDrive/Data Science/data/Auto.csv\"\n",
        "df_auto = pd.read_csv(auto_path)\n",
        "df_auto.tail()"
      ],
      "metadata": {
        "id": "4N93EeJKMHI4",
        "outputId": "7d28895e-4e83-4177-a9a8-c206a1ca1785",
        "colab": {
          "base_uri": "https://localhost:8080/",
          "height": 206
        }
      },
      "execution_count": 27,
      "outputs": [
        {
          "output_type": "execute_result",
          "data": {
            "text/plain": [
              "      mpg  cylinders  displacement horsepower  weight  acceleration  year  \\\n",
              "392  27.0          4         140.0         86    2790          15.6    82   \n",
              "393  44.0          4          97.0         52    2130          24.6    82   \n",
              "394  32.0          4         135.0         84    2295          11.6    82   \n",
              "395  28.0          4         120.0         79    2625          18.6    82   \n",
              "396  31.0          4         119.0         82    2720          19.4    82   \n",
              "\n",
              "     origin             name  \n",
              "392       1  ford mustang gl  \n",
              "393       2        vw pickup  \n",
              "394       1    dodge rampage  \n",
              "395       1      ford ranger  \n",
              "396       1       chevy s-10  "
            ],
            "text/html": [
              "\n",
              "  <div id=\"df-84e57159-c96e-429c-8fcb-82e6bdfccf3d\" class=\"colab-df-container\">\n",
              "    <div>\n",
              "<style scoped>\n",
              "    .dataframe tbody tr th:only-of-type {\n",
              "        vertical-align: middle;\n",
              "    }\n",
              "\n",
              "    .dataframe tbody tr th {\n",
              "        vertical-align: top;\n",
              "    }\n",
              "\n",
              "    .dataframe thead th {\n",
              "        text-align: right;\n",
              "    }\n",
              "</style>\n",
              "<table border=\"1\" class=\"dataframe\">\n",
              "  <thead>\n",
              "    <tr style=\"text-align: right;\">\n",
              "      <th></th>\n",
              "      <th>mpg</th>\n",
              "      <th>cylinders</th>\n",
              "      <th>displacement</th>\n",
              "      <th>horsepower</th>\n",
              "      <th>weight</th>\n",
              "      <th>acceleration</th>\n",
              "      <th>year</th>\n",
              "      <th>origin</th>\n",
              "      <th>name</th>\n",
              "    </tr>\n",
              "  </thead>\n",
              "  <tbody>\n",
              "    <tr>\n",
              "      <th>392</th>\n",
              "      <td>27.0</td>\n",
              "      <td>4</td>\n",
              "      <td>140.0</td>\n",
              "      <td>86</td>\n",
              "      <td>2790</td>\n",
              "      <td>15.6</td>\n",
              "      <td>82</td>\n",
              "      <td>1</td>\n",
              "      <td>ford mustang gl</td>\n",
              "    </tr>\n",
              "    <tr>\n",
              "      <th>393</th>\n",
              "      <td>44.0</td>\n",
              "      <td>4</td>\n",
              "      <td>97.0</td>\n",
              "      <td>52</td>\n",
              "      <td>2130</td>\n",
              "      <td>24.6</td>\n",
              "      <td>82</td>\n",
              "      <td>2</td>\n",
              "      <td>vw pickup</td>\n",
              "    </tr>\n",
              "    <tr>\n",
              "      <th>394</th>\n",
              "      <td>32.0</td>\n",
              "      <td>4</td>\n",
              "      <td>135.0</td>\n",
              "      <td>84</td>\n",
              "      <td>2295</td>\n",
              "      <td>11.6</td>\n",
              "      <td>82</td>\n",
              "      <td>1</td>\n",
              "      <td>dodge rampage</td>\n",
              "    </tr>\n",
              "    <tr>\n",
              "      <th>395</th>\n",
              "      <td>28.0</td>\n",
              "      <td>4</td>\n",
              "      <td>120.0</td>\n",
              "      <td>79</td>\n",
              "      <td>2625</td>\n",
              "      <td>18.6</td>\n",
              "      <td>82</td>\n",
              "      <td>1</td>\n",
              "      <td>ford ranger</td>\n",
              "    </tr>\n",
              "    <tr>\n",
              "      <th>396</th>\n",
              "      <td>31.0</td>\n",
              "      <td>4</td>\n",
              "      <td>119.0</td>\n",
              "      <td>82</td>\n",
              "      <td>2720</td>\n",
              "      <td>19.4</td>\n",
              "      <td>82</td>\n",
              "      <td>1</td>\n",
              "      <td>chevy s-10</td>\n",
              "    </tr>\n",
              "  </tbody>\n",
              "</table>\n",
              "</div>\n",
              "    <div class=\"colab-df-buttons\">\n",
              "\n",
              "  <div class=\"colab-df-container\">\n",
              "    <button class=\"colab-df-convert\" onclick=\"convertToInteractive('df-84e57159-c96e-429c-8fcb-82e6bdfccf3d')\"\n",
              "            title=\"Convert this dataframe to an interactive table.\"\n",
              "            style=\"display:none;\">\n",
              "\n",
              "  <svg xmlns=\"http://www.w3.org/2000/svg\" height=\"24px\" viewBox=\"0 -960 960 960\">\n",
              "    <path d=\"M120-120v-720h720v720H120Zm60-500h600v-160H180v160Zm220 220h160v-160H400v160Zm0 220h160v-160H400v160ZM180-400h160v-160H180v160Zm440 0h160v-160H620v160ZM180-180h160v-160H180v160Zm440 0h160v-160H620v160Z\"/>\n",
              "  </svg>\n",
              "    </button>\n",
              "\n",
              "  <style>\n",
              "    .colab-df-container {\n",
              "      display:flex;\n",
              "      gap: 12px;\n",
              "    }\n",
              "\n",
              "    .colab-df-convert {\n",
              "      background-color: #E8F0FE;\n",
              "      border: none;\n",
              "      border-radius: 50%;\n",
              "      cursor: pointer;\n",
              "      display: none;\n",
              "      fill: #1967D2;\n",
              "      height: 32px;\n",
              "      padding: 0 0 0 0;\n",
              "      width: 32px;\n",
              "    }\n",
              "\n",
              "    .colab-df-convert:hover {\n",
              "      background-color: #E2EBFA;\n",
              "      box-shadow: 0px 1px 2px rgba(60, 64, 67, 0.3), 0px 1px 3px 1px rgba(60, 64, 67, 0.15);\n",
              "      fill: #174EA6;\n",
              "    }\n",
              "\n",
              "    .colab-df-buttons div {\n",
              "      margin-bottom: 4px;\n",
              "    }\n",
              "\n",
              "    [theme=dark] .colab-df-convert {\n",
              "      background-color: #3B4455;\n",
              "      fill: #D2E3FC;\n",
              "    }\n",
              "\n",
              "    [theme=dark] .colab-df-convert:hover {\n",
              "      background-color: #434B5C;\n",
              "      box-shadow: 0px 1px 3px 1px rgba(0, 0, 0, 0.15);\n",
              "      filter: drop-shadow(0px 1px 2px rgba(0, 0, 0, 0.3));\n",
              "      fill: #FFFFFF;\n",
              "    }\n",
              "  </style>\n",
              "\n",
              "    <script>\n",
              "      const buttonEl =\n",
              "        document.querySelector('#df-84e57159-c96e-429c-8fcb-82e6bdfccf3d button.colab-df-convert');\n",
              "      buttonEl.style.display =\n",
              "        google.colab.kernel.accessAllowed ? 'block' : 'none';\n",
              "\n",
              "      async function convertToInteractive(key) {\n",
              "        const element = document.querySelector('#df-84e57159-c96e-429c-8fcb-82e6bdfccf3d');\n",
              "        const dataTable =\n",
              "          await google.colab.kernel.invokeFunction('convertToInteractive',\n",
              "                                                    [key], {});\n",
              "        if (!dataTable) return;\n",
              "\n",
              "        const docLinkHtml = 'Like what you see? Visit the ' +\n",
              "          '<a target=\"_blank\" href=https://colab.research.google.com/notebooks/data_table.ipynb>data table notebook</a>'\n",
              "          + ' to learn more about interactive tables.';\n",
              "        element.innerHTML = '';\n",
              "        dataTable['output_type'] = 'display_data';\n",
              "        await google.colab.output.renderOutput(dataTable, element);\n",
              "        const docLink = document.createElement('div');\n",
              "        docLink.innerHTML = docLinkHtml;\n",
              "        element.appendChild(docLink);\n",
              "      }\n",
              "    </script>\n",
              "  </div>\n",
              "\n",
              "\n",
              "    <div id=\"df-e4889561-05de-4c68-a6e5-dd2b769b95ee\">\n",
              "      <button class=\"colab-df-quickchart\" onclick=\"quickchart('df-e4889561-05de-4c68-a6e5-dd2b769b95ee')\"\n",
              "                title=\"Suggest charts\"\n",
              "                style=\"display:none;\">\n",
              "\n",
              "<svg xmlns=\"http://www.w3.org/2000/svg\" height=\"24px\"viewBox=\"0 0 24 24\"\n",
              "     width=\"24px\">\n",
              "    <g>\n",
              "        <path d=\"M19 3H5c-1.1 0-2 .9-2 2v14c0 1.1.9 2 2 2h14c1.1 0 2-.9 2-2V5c0-1.1-.9-2-2-2zM9 17H7v-7h2v7zm4 0h-2V7h2v10zm4 0h-2v-4h2v4z\"/>\n",
              "    </g>\n",
              "</svg>\n",
              "      </button>\n",
              "\n",
              "<style>\n",
              "  .colab-df-quickchart {\n",
              "      --bg-color: #E8F0FE;\n",
              "      --fill-color: #1967D2;\n",
              "      --hover-bg-color: #E2EBFA;\n",
              "      --hover-fill-color: #174EA6;\n",
              "      --disabled-fill-color: #AAA;\n",
              "      --disabled-bg-color: #DDD;\n",
              "  }\n",
              "\n",
              "  [theme=dark] .colab-df-quickchart {\n",
              "      --bg-color: #3B4455;\n",
              "      --fill-color: #D2E3FC;\n",
              "      --hover-bg-color: #434B5C;\n",
              "      --hover-fill-color: #FFFFFF;\n",
              "      --disabled-bg-color: #3B4455;\n",
              "      --disabled-fill-color: #666;\n",
              "  }\n",
              "\n",
              "  .colab-df-quickchart {\n",
              "    background-color: var(--bg-color);\n",
              "    border: none;\n",
              "    border-radius: 50%;\n",
              "    cursor: pointer;\n",
              "    display: none;\n",
              "    fill: var(--fill-color);\n",
              "    height: 32px;\n",
              "    padding: 0;\n",
              "    width: 32px;\n",
              "  }\n",
              "\n",
              "  .colab-df-quickchart:hover {\n",
              "    background-color: var(--hover-bg-color);\n",
              "    box-shadow: 0 1px 2px rgba(60, 64, 67, 0.3), 0 1px 3px 1px rgba(60, 64, 67, 0.15);\n",
              "    fill: var(--button-hover-fill-color);\n",
              "  }\n",
              "\n",
              "  .colab-df-quickchart-complete:disabled,\n",
              "  .colab-df-quickchart-complete:disabled:hover {\n",
              "    background-color: var(--disabled-bg-color);\n",
              "    fill: var(--disabled-fill-color);\n",
              "    box-shadow: none;\n",
              "  }\n",
              "\n",
              "  .colab-df-spinner {\n",
              "    border: 2px solid var(--fill-color);\n",
              "    border-color: transparent;\n",
              "    border-bottom-color: var(--fill-color);\n",
              "    animation:\n",
              "      spin 1s steps(1) infinite;\n",
              "  }\n",
              "\n",
              "  @keyframes spin {\n",
              "    0% {\n",
              "      border-color: transparent;\n",
              "      border-bottom-color: var(--fill-color);\n",
              "      border-left-color: var(--fill-color);\n",
              "    }\n",
              "    20% {\n",
              "      border-color: transparent;\n",
              "      border-left-color: var(--fill-color);\n",
              "      border-top-color: var(--fill-color);\n",
              "    }\n",
              "    30% {\n",
              "      border-color: transparent;\n",
              "      border-left-color: var(--fill-color);\n",
              "      border-top-color: var(--fill-color);\n",
              "      border-right-color: var(--fill-color);\n",
              "    }\n",
              "    40% {\n",
              "      border-color: transparent;\n",
              "      border-right-color: var(--fill-color);\n",
              "      border-top-color: var(--fill-color);\n",
              "    }\n",
              "    60% {\n",
              "      border-color: transparent;\n",
              "      border-right-color: var(--fill-color);\n",
              "    }\n",
              "    80% {\n",
              "      border-color: transparent;\n",
              "      border-right-color: var(--fill-color);\n",
              "      border-bottom-color: var(--fill-color);\n",
              "    }\n",
              "    90% {\n",
              "      border-color: transparent;\n",
              "      border-bottom-color: var(--fill-color);\n",
              "    }\n",
              "  }\n",
              "</style>\n",
              "\n",
              "      <script>\n",
              "        async function quickchart(key) {\n",
              "          const quickchartButtonEl =\n",
              "            document.querySelector('#' + key + ' button');\n",
              "          quickchartButtonEl.disabled = true;  // To prevent multiple clicks.\n",
              "          quickchartButtonEl.classList.add('colab-df-spinner');\n",
              "          try {\n",
              "            const charts = await google.colab.kernel.invokeFunction(\n",
              "                'suggestCharts', [key], {});\n",
              "          } catch (error) {\n",
              "            console.error('Error during call to suggestCharts:', error);\n",
              "          }\n",
              "          quickchartButtonEl.classList.remove('colab-df-spinner');\n",
              "          quickchartButtonEl.classList.add('colab-df-quickchart-complete');\n",
              "        }\n",
              "        (() => {\n",
              "          let quickchartButtonEl =\n",
              "            document.querySelector('#df-e4889561-05de-4c68-a6e5-dd2b769b95ee button');\n",
              "          quickchartButtonEl.style.display =\n",
              "            google.colab.kernel.accessAllowed ? 'block' : 'none';\n",
              "        })();\n",
              "      </script>\n",
              "    </div>\n",
              "\n",
              "    </div>\n",
              "  </div>\n"
            ],
            "application/vnd.google.colaboratory.intrinsic+json": {
              "type": "dataframe",
              "summary": "{\n  \"name\": \"df_auto\",\n  \"rows\": 5,\n  \"fields\": [\n    {\n      \"column\": \"mpg\",\n      \"properties\": {\n        \"dtype\": \"number\",\n        \"std\": 6.8044103344816005,\n        \"min\": 27.0,\n        \"max\": 44.0,\n        \"num_unique_values\": 5,\n        \"samples\": [\n          44.0,\n          31.0,\n          32.0\n        ],\n        \"semantic_type\": \"\",\n        \"description\": \"\"\n      }\n    },\n    {\n      \"column\": \"cylinders\",\n      \"properties\": {\n        \"dtype\": \"number\",\n        \"std\": 0,\n        \"min\": 4,\n        \"max\": 4,\n        \"num_unique_values\": 1,\n        \"samples\": [\n          4\n        ],\n        \"semantic_type\": \"\",\n        \"description\": \"\"\n      }\n    },\n    {\n      \"column\": \"displacement\",\n      \"properties\": {\n        \"dtype\": \"number\",\n        \"std\": 16.813684902483452,\n        \"min\": 97.0,\n        \"max\": 140.0,\n        \"num_unique_values\": 5,\n        \"samples\": [\n          97.0\n        ],\n        \"semantic_type\": \"\",\n        \"description\": \"\"\n      }\n    },\n    {\n      \"column\": \"horsepower\",\n      \"properties\": {\n        \"dtype\": \"string\",\n        \"num_unique_values\": 5,\n        \"samples\": [\n          \"52\"\n        ],\n        \"semantic_type\": \"\",\n        \"description\": \"\"\n      }\n    },\n    {\n      \"column\": \"weight\",\n      \"properties\": {\n        \"dtype\": \"number\",\n        \"std\": 285,\n        \"min\": 2130,\n        \"max\": 2790,\n        \"num_unique_values\": 5,\n        \"samples\": [\n          2130\n        ],\n        \"semantic_type\": \"\",\n        \"description\": \"\"\n      }\n    },\n    {\n      \"column\": \"acceleration\",\n      \"properties\": {\n        \"dtype\": \"number\",\n        \"std\": 4.81123684721507,\n        \"min\": 11.6,\n        \"max\": 24.6,\n        \"num_unique_values\": 5,\n        \"samples\": [\n          24.6\n        ],\n        \"semantic_type\": \"\",\n        \"description\": \"\"\n      }\n    },\n    {\n      \"column\": \"year\",\n      \"properties\": {\n        \"dtype\": \"number\",\n        \"std\": 0,\n        \"min\": 82,\n        \"max\": 82,\n        \"num_unique_values\": 1,\n        \"samples\": [\n          82\n        ],\n        \"semantic_type\": \"\",\n        \"description\": \"\"\n      }\n    },\n    {\n      \"column\": \"origin\",\n      \"properties\": {\n        \"dtype\": \"number\",\n        \"std\": 0,\n        \"min\": 1,\n        \"max\": 2,\n        \"num_unique_values\": 2,\n        \"samples\": [\n          2\n        ],\n        \"semantic_type\": \"\",\n        \"description\": \"\"\n      }\n    },\n    {\n      \"column\": \"name\",\n      \"properties\": {\n        \"dtype\": \"string\",\n        \"num_unique_values\": 5,\n        \"samples\": [\n          \"vw pickup\"\n        ],\n        \"semantic_type\": \"\",\n        \"description\": \"\"\n      }\n    }\n  ]\n}"
            }
          },
          "metadata": {},
          "execution_count": 27
        }
      ]
    },
    {
      "cell_type": "code",
      "source": [
        "df_auto.dtypes"
      ],
      "metadata": {
        "id": "kXM2tfCiM7LQ",
        "outputId": "c9d965a3-8479-4947-fa62-ccd84ce032c7",
        "colab": {
          "base_uri": "https://localhost:8080/",
          "height": 366
        }
      },
      "execution_count": 28,
      "outputs": [
        {
          "output_type": "execute_result",
          "data": {
            "text/plain": [
              "mpg             float64\n",
              "cylinders         int64\n",
              "displacement    float64\n",
              "horsepower       object\n",
              "weight            int64\n",
              "acceleration    float64\n",
              "year              int64\n",
              "origin            int64\n",
              "name             object\n",
              "dtype: object"
            ],
            "text/html": [
              "<div>\n",
              "<style scoped>\n",
              "    .dataframe tbody tr th:only-of-type {\n",
              "        vertical-align: middle;\n",
              "    }\n",
              "\n",
              "    .dataframe tbody tr th {\n",
              "        vertical-align: top;\n",
              "    }\n",
              "\n",
              "    .dataframe thead th {\n",
              "        text-align: right;\n",
              "    }\n",
              "</style>\n",
              "<table border=\"1\" class=\"dataframe\">\n",
              "  <thead>\n",
              "    <tr style=\"text-align: right;\">\n",
              "      <th></th>\n",
              "      <th>0</th>\n",
              "    </tr>\n",
              "  </thead>\n",
              "  <tbody>\n",
              "    <tr>\n",
              "      <th>mpg</th>\n",
              "      <td>float64</td>\n",
              "    </tr>\n",
              "    <tr>\n",
              "      <th>cylinders</th>\n",
              "      <td>int64</td>\n",
              "    </tr>\n",
              "    <tr>\n",
              "      <th>displacement</th>\n",
              "      <td>float64</td>\n",
              "    </tr>\n",
              "    <tr>\n",
              "      <th>horsepower</th>\n",
              "      <td>object</td>\n",
              "    </tr>\n",
              "    <tr>\n",
              "      <th>weight</th>\n",
              "      <td>int64</td>\n",
              "    </tr>\n",
              "    <tr>\n",
              "      <th>acceleration</th>\n",
              "      <td>float64</td>\n",
              "    </tr>\n",
              "    <tr>\n",
              "      <th>year</th>\n",
              "      <td>int64</td>\n",
              "    </tr>\n",
              "    <tr>\n",
              "      <th>origin</th>\n",
              "      <td>int64</td>\n",
              "    </tr>\n",
              "    <tr>\n",
              "      <th>name</th>\n",
              "      <td>object</td>\n",
              "    </tr>\n",
              "  </tbody>\n",
              "</table>\n",
              "</div><br><label><b>dtype:</b> object</label>"
            ]
          },
          "metadata": {},
          "execution_count": 28
        }
      ]
    },
    {
      "cell_type": "code",
      "source": [
        "df_auto['horsepower'].unique()"
      ],
      "metadata": {
        "id": "iSxzbqZTNN5X",
        "outputId": "ef3b22ad-6475-4600-f50e-308efcc13190",
        "colab": {
          "base_uri": "https://localhost:8080/"
        }
      },
      "execution_count": 29,
      "outputs": [
        {
          "output_type": "execute_result",
          "data": {
            "text/plain": [
              "array(['130', '165', '150', '140', '198', '220', '215', '225', '190',\n",
              "       '170', '160', '95', '97', '85', '88', '46', '87', '90', '113',\n",
              "       '200', '210', '193', '?', '100', '105', '175', '153', '180', '110',\n",
              "       '72', '86', '70', '76', '65', '69', '60', '80', '54', '208', '155',\n",
              "       '112', '92', '145', '137', '158', '167', '94', '107', '230', '49',\n",
              "       '75', '91', '122', '67', '83', '78', '52', '61', '93', '148',\n",
              "       '129', '96', '71', '98', '115', '53', '81', '79', '120', '152',\n",
              "       '102', '108', '68', '58', '149', '89', '63', '48', '66', '139',\n",
              "       '103', '125', '133', '138', '135', '142', '77', '62', '132', '84',\n",
              "       '64', '74', '116', '82'], dtype=object)"
            ]
          },
          "metadata": {},
          "execution_count": 29
        }
      ]
    },
    {
      "cell_type": "code",
      "source": [
        "df_auto = df_auto.query('horsepower!=\"?\"')\n",
        "df_auto['horsepower'] = df_auto['horsepower'].astype(int)\n",
        "y = df_auto['mpg']\n",
        "X = df_auto['horsepower']\n",
        "model = sm.ols('mpg ~ horsepower', data=df_auto)\n",
        "results = model.fit()\n",
        "print(results.summary())"
      ],
      "metadata": {
        "id": "a10Bs36tNmUn",
        "outputId": "10860c05-8d8e-4650-c252-6a2383184db3",
        "colab": {
          "base_uri": "https://localhost:8080/"
        }
      },
      "execution_count": 48,
      "outputs": [
        {
          "output_type": "stream",
          "name": "stdout",
          "text": [
            "                            OLS Regression Results                            \n",
            "==============================================================================\n",
            "Dep. Variable:                    mpg   R-squared:                       0.606\n",
            "Model:                            OLS   Adj. R-squared:                  0.605\n",
            "Method:                 Least Squares   F-statistic:                     599.7\n",
            "Date:                Tue, 01 Jul 2025   Prob (F-statistic):           7.03e-81\n",
            "Time:                        19:08:15   Log-Likelihood:                -1178.7\n",
            "No. Observations:                 392   AIC:                             2361.\n",
            "Df Residuals:                     390   BIC:                             2369.\n",
            "Df Model:                           1                                         \n",
            "Covariance Type:            nonrobust                                         \n",
            "==============================================================================\n",
            "                 coef    std err          t      P>|t|      [0.025      0.975]\n",
            "------------------------------------------------------------------------------\n",
            "Intercept     39.9359      0.717     55.660      0.000      38.525      41.347\n",
            "horsepower    -0.1578      0.006    -24.489      0.000      -0.171      -0.145\n",
            "==============================================================================\n",
            "Omnibus:                       16.432   Durbin-Watson:                   0.920\n",
            "Prob(Omnibus):                  0.000   Jarque-Bera (JB):               17.305\n",
            "Skew:                           0.492   Prob(JB):                     0.000175\n",
            "Kurtosis:                       3.299   Cond. No.                         322.\n",
            "==============================================================================\n",
            "\n",
            "Notes:\n",
            "[1] Standard Errors assume that the covariance matrix of the errors is correctly specified.\n"
          ]
        }
      ]
    },
    {
      "cell_type": "markdown",
      "source": [
        "Since the p-value associated with the horsepower feature is almost zero, we can conclude that there is a strong relationship between the predictor and the response. Another way to see this is looking at the coefficient, which is -0.1578, and the confidence interval, which is from -0.171 to -0.145. If there was no relation between the predictor and the response, the coefficient would be very close to zero.\n",
        "\n",
        "On the other hand, this relation does not seem to be very strong, since the coefficient is below one in module. In fact, for every unit change in the predictor, we expect to see a change of -0.1578 in the response. Since the coefficient is negative, we can conclude that the relation is also negative."
      ],
      "metadata": {
        "id": "7GF8MY9lOi0v"
      }
    },
    {
      "cell_type": "code",
      "source": [
        "x = 98\n",
        "print(\"When the horsepower is 98, we expect a mpg of:\", round(results.predict(dict(horsepower=x)).iloc[0], 2))"
      ],
      "metadata": {
        "id": "FiDSp3qCQmMw",
        "outputId": "42378e86-f005-4327-bf68-031d1648c7b8",
        "colab": {
          "base_uri": "https://localhost:8080/"
        }
      },
      "execution_count": 44,
      "outputs": [
        {
          "output_type": "stream",
          "name": "stdout",
          "text": [
            "When the horsepower is 98, we expect a mpg of: 24.47\n"
          ]
        }
      ]
    },
    {
      "cell_type": "markdown",
      "source": [
        "### b)"
      ],
      "metadata": {
        "id": "sx3qX4K0YfSt"
      }
    },
    {
      "cell_type": "code",
      "source": [
        "y_pred = results.predict()\n",
        "fig, ax = plt.subplots(figsize=(6, 4))\n",
        "sns.scatterplot(x='horsepower', y='mpg', data=df_auto, ax=ax, label='Observed data')\n",
        "sns.lineplot(x='horsepower', y=y_pred, data=df_auto, ax=ax, color='orange', label='Regression Line')\n",
        "ax.set_xlabel(\"Horsepower\")\n",
        "ax.set_ylabel(\"MPG\")\n",
        "ax.legend()\n",
        "ax.set_title(\"MPG by Horsepower Regression Plot\")\n",
        "plt.show()"
      ],
      "metadata": {
        "id": "mll84isQYgtu",
        "outputId": "3e6568a1-3b71-465b-cbfc-b4bc456f3564",
        "colab": {
          "base_uri": "https://localhost:8080/",
          "height": 410
        }
      },
      "execution_count": 61,
      "outputs": [
        {
          "output_type": "display_data",
          "data": {
            "text/plain": [
              "<Figure size 600x400 with 1 Axes>"
            ],
            "image/png": "[encoded data removed]"
          },
          "metadata": {}
        }
      ]
    },
    {
      "cell_type": "markdown",
      "source": [
        "### c)"
      ],
      "metadata": {
        "id": "vZdO3KHpM63_"
      }
    },
    {
      "cell_type": "code",
      "source": [
        "fig, ax = plt.subplots(figsize=(6, 4))\n",
        "sns.scatterplot(x=y_pred, y=results.resid, data=df_auto, ax=ax)\n",
        "ax.set_xlabel(\"Predicted MPG\")\n",
        "ax.set_ylabel(\"Residuals\")\n",
        "ax.set_title(\"Residuals vs Predicted MPG\")\n",
        "plt.show()\n"
      ],
      "metadata": {
        "id": "BRe-JQC7bLUe",
        "outputId": "5d38e2d0-3b98-4b8a-e935-543d579810b0",
        "colab": {
          "base_uri": "https://localhost:8080/",
          "height": 410
        }
      },
      "execution_count": 69,
      "outputs": [
        {
          "output_type": "display_data",
          "data": {
            "text/plain": [
              "<Figure size 600x400 with 1 Axes>"
            ],
            "image/png": "[encoded data removed]"
          },
          "metadata": {}
        }
      ]
    },
    {
      "cell_type": "markdown",
      "source": [
        "The U-shape curve indicates that the relationship between the predictor and the response may not be linear. A transformation would be necessary to improve the model. Ideally, we would see not pattern in the residuals plot."
      ],
      "metadata": {
        "id": "DR9WYWTvdwD9"
      }
    }
  ]
}