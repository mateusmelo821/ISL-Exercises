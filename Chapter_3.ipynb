{
  "nbformat": 4,
  "nbformat_minor": 0,
  "metadata": {
    "colab": {
      "provenance": [],
      "authorship_tag": "ABX9TyOw1joqodv3COC8IvHT5w0j"
    },
    "kernelspec": {
      "name": "python3",
      "display_name": "Python 3"
    },
    "language_info": {
      "name": "python"
    }
  },
  "cells": [
    {
      "cell_type": "markdown",
      "source": [
        "## Question 1"
      ],
      "metadata": {
        "id": "6fDXPPfNbNzI"
      }
    },
    {
      "cell_type": "markdown",
      "source": [
        "In this situation, $H_0$ is that there is no relationship between the money spent on advertisement by TV, radio and newspaper and the sales. Since all p-values are very low (below 0.0001), we can reject $H_0$. Therefore, all three formats indeed have an impact on the sales."
      ],
      "metadata": {
        "id": "CPAwQtQZbdWV"
      }
    },
    {
      "cell_type": "markdown",
      "source": [
        "## Question 2"
      ],
      "metadata": {
        "id": "TciZRzhIcKdu"
      }
    },
    {
      "cell_type": "markdown",
      "source": [
        "Both KNN classifier and KNN regression method consider the K closest point to the observation for which we have the intention of make a prediction. The main difference is that for the classifier, we give as a prediction the most common label from the K neighbors, whereas for the regression, we calculate a mean."
      ],
      "metadata": {
        "id": "HDMydYVTcMGF"
      }
    },
    {
      "cell_type": "markdown",
      "source": [
        "## Question 3"
      ],
      "metadata": {
        "id": "DLzvwvT5cv32"
      }
    },
    {
      "cell_type": "markdown",
      "source": [
        "### a)  "
      ],
      "metadata": {
        "id": "HqhB4CtFc_dO"
      }
    },
    {
      "cell_type": "markdown",
      "source": [
        "For a fixed value of IQ and GPA, college graduates earn more, on average, than high school graduates. This happens because, even though the interaction of GPA and level is negative, its impact in the starting salary is much lower than the impact of GPA and level alone."
      ],
      "metadata": {
        "id": "cnsB02cHdClO"
      }
    },
    {
      "cell_type": "markdown",
      "source": [
        "### b)"
      ],
      "metadata": {
        "id": "D0VQbZfFd_yu"
      }
    },
    {
      "cell_type": "code",
      "execution_count": null,
      "metadata": {
        "colab": {
          "base_uri": "https://localhost:8080/"
        },
        "id": "AmoJxGPRbE6Z",
        "outputId": "c6e44d36-54d6-4143-e9ba-380bbf3deec5"
      },
      "outputs": [
        {
          "output_type": "stream",
          "name": "stdout",
          "text": [
            "The predicted starting salary is: US$ 137100.0\n"
          ]
        }
      ],
      "source": [
        "b0 = 50\n",
        "b1 = 20\n",
        "b2 = 0.07\n",
        "b3 = 35\n",
        "b4 = 0.01\n",
        "b5 = -10\n",
        "\n",
        "GPA=4.0\n",
        "IQ=110\n",
        "level=1\n",
        "starting_salary = b0+b1*GPA+b2*IQ+b3*level+b4*GPA*IQ+b5*GPA*level\n",
        "print(\"The predicted starting salary is: US$\", 1000*starting_salary)"
      ]
    },
    {
      "cell_type": "markdown",
      "source": [
        "### c)"
      ],
      "metadata": {
        "id": "Hgkfrv1bebfP"
      }
    },
    {
      "cell_type": "markdown",
      "source": [
        "The fact that $\\hat{\\beta_3}$ is close to 0 is not enough evidence that the interection of GPA and IQ does not affect the starting salary. For making such a claim, its p-value would have to be analysed. Beyond that, considering that the IQ is, on average, close to a hundred, this interaction increases the impact of the GPA by 5%."
      ],
      "metadata": {
        "id": "TXCHwJZnf5p3"
      }
    },
    {
      "cell_type": "markdown",
      "source": [
        "## Question 4"
      ],
      "metadata": {
        "id": "ypL4nQ_GhRaI"
      }
    },
    {
      "cell_type": "markdown",
      "source": [
        "### a)"
      ],
      "metadata": {
        "id": "4HApZfj-hS0A"
      }
    },
    {
      "cell_type": "markdown",
      "source": [
        "Both models would have a very low RSS in the training dataset, but we expect the cubic model to have the lowest one, since the quadratic and cubic components would probably wrongly catch some of the irreducible error and treat it as part of the function."
      ],
      "metadata": {
        "id": "cOKlWQEuhUIQ"
      }
    },
    {
      "cell_type": "markdown",
      "source": [
        "### b)"
      ],
      "metadata": {
        "id": "bM9ur544iBxp"
      }
    },
    {
      "cell_type": "markdown",
      "source": [
        "As for the testing RSS, we expect the cubic model to have the highest, since it overfitted to training dataset."
      ],
      "metadata": {
        "id": "lsXCi1r5iGCQ"
      }
    },
    {
      "cell_type": "markdown",
      "source": [
        "### c)"
      ],
      "metadata": {
        "id": "ZjVI7c4YiUQA"
      }
    },
    {
      "cell_type": "markdown",
      "source": [
        "Considering a non-linear response, we expect the cubic model to have a better training RSS, since it is more flexible than the linear model. In this situation, it is very likely that the increase in variance is more than compensated by the loss in bias."
      ],
      "metadata": {
        "id": "FvZxMHSuimlI"
      }
    },
    {
      "cell_type": "markdown",
      "source": [
        "### d)"
      ],
      "metadata": {
        "id": "Bbt8VhpXi_6J"
      }
    },
    {
      "cell_type": "markdown",
      "source": [
        "This effect is also expected in the test RSS for a similar reason."
      ],
      "metadata": {
        "id": "mEEI9Sj5jBxJ"
      }
    },
    {
      "cell_type": "markdown",
      "source": [
        "## Question 5"
      ],
      "metadata": {
        "id": "ObXj7hhNjI45"
      }
    },
    {
      "cell_type": "markdown",
      "source": [
        "Given that $\\hat{y_i}=\\sum_{i'=1}^{n}{a_{i'}y_{i'}}$\n",
        "and that $\\hat{y_i}=\\hat{\\beta} x_i$,\n",
        "we have:\n",
        "\n",
        "$\\sum_{i'=1}^{n}{a_{i'}y_{i'}}=\\hat{\\beta} x_i$\n",
        "\n",
        "$\\sum_{i'=1}^{n}{a_{i'}y_{i'}}=\\frac{\\sum_{i'=1}^{n}{x_{i'}y_{i'}}}{\\sum_{j=}^{n}{x_{j}^2}}x_i$\n",
        "\n",
        "$\\sum_{i'=1}^{n}{a_{i'}y_{i'}}=\\sum_{i'=1}^{n}\\frac{{x_{i'}y_{i'}}}{\\sum_{j=}^{n}{x_{j}^2}}x_i$\n",
        "\n",
        "Since $x_i$ is a constant, we have:\n",
        "\n",
        "$\\sum_{i'=1}^{n}{a_{i'}y_{i'}}=\\sum_{i'=1}^{n}\\frac{{x_ix_{i'}y_{i'}}}{\\sum_{j=}^{n}{x_{j}^2}}$\n",
        "\n",
        "Therefore, we have:\n",
        "\n",
        "$a_{i'}=\\frac{{x_ix_{i'}}}{\\sum_{j=}^{n}{x_{j}^2}}$"
      ],
      "metadata": {
        "id": "iJBsl-DSjMUR"
      }
    },
    {
      "cell_type": "markdown",
      "source": [
        "## Question 6"
      ],
      "metadata": {
        "id": "fuKICdebAuh0"
      }
    },
    {
      "cell_type": "markdown",
      "source": [
        "Given that $\\hat{\\beta_1}=\\frac{\\sum_{i=1}^{n}{(x_i-\\bar{x})(y_i-\\bar{y})}}{\\sum_{i=1}^{n}{(x_i-\\bar{x})^2}}$, $\\hat{\\beta_0}=\\bar{y}-\\hat{\\beta_1}\\bar{x}$ and $\\hat{y}=\\hat{\\beta_0}+\\hat{\\beta_1}\\hat{x}$, we can find a value for $\\hat{x}$ such that $\\hat{y}=\\bar{y}$:\n",
        "\n",
        "$\\bar{y}=\\hat{\\beta_0}+\\hat{\\beta_1}\\hat{x}$\n",
        "\n",
        "$\\bar{y}=\\bar{y}-\\hat{\\beta_1}\\bar{x}+\\hat{\\beta_1}\\hat{x}$\n",
        "\n",
        "$\\hat{x}=\\bar{x}$\n",
        "\n",
        "Therefore, the least squares line always passes through the point $(\\bar{x}, \\bar{y})$."
      ],
      "metadata": {
        "id": "9lbqtihwAwtc"
      }
    },
    {
      "cell_type": "markdown",
      "source": [
        "## Question 7"
      ],
      "metadata": {
        "id": "S16pQjvGE0o9"
      }
    },
    {
      "cell_type": "markdown",
      "source": [
        "When $\\bar{x}=\\bar{y}=0$, we have that $R^2=1-\\frac{\\sum_{i=1}^{n}{(y_i-\\hat{y})^2}}{\\sum_{i=1}^{n}(y_i)}$.\n",
        "\n",
        "We also have that $cor(X,Y) = \\frac{\\sum_{i=1}^{n}{(x_i})(y_i)}{\\sqrt{\\sum_{i=1}^{n}{(x_i)^2}}\\sqrt{\\sum_{i=1}^{n}{(y_i)^2}}}$"
      ],
      "metadata": {
        "id": "1fTbcSFYE2id"
      }
    }
  ]
}