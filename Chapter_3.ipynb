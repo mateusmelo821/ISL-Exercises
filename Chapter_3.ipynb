{
  "nbformat": 4,
  "nbformat_minor": 0,
  "metadata": {
    "colab": {
      "provenance": [],
      "authorship_tag": "ABX9TyPd4p4UdYejxvaAlkn21c60"
    },
    "kernelspec": {
      "name": "python3",
      "display_name": "Python 3"
    },
    "language_info": {
      "name": "python"
    }
  },
  "cells": [
    {
      "cell_type": "markdown",
      "source": [
        "## Question 1"
      ],
      "metadata": {
        "id": "6fDXPPfNbNzI"
      }
    },
    {
      "cell_type": "markdown",
      "source": [
        "In this situation, $H_0$ is that there is no relationship between the money spent on advertisement by TV, radio and newspaper and the sales. Since all p-values are very low (below 0.0001), we can reject $H_0$. Therefore, all three formats indeed have an impact on the sales."
      ],
      "metadata": {
        "id": "CPAwQtQZbdWV"
      }
    },
    {
      "cell_type": "markdown",
      "source": [
        "## Question 2"
      ],
      "metadata": {
        "id": "TciZRzhIcKdu"
      }
    },
    {
      "cell_type": "markdown",
      "source": [
        "Both KNN classifier and KNN regression method consider the K closest point to the observation for which we have the intention of make a prediction. The main difference is that for the classifier, we give as a prediction the most common label from the K neighbors, whereas for the regression, we calculate a mean."
      ],
      "metadata": {
        "id": "HDMydYVTcMGF"
      }
    },
    {
      "cell_type": "markdown",
      "source": [
        "## 3"
      ],
      "metadata": {
        "id": "DLzvwvT5cv32"
      }
    },
    {
      "cell_type": "markdown",
      "source": [
        "### a)  "
      ],
      "metadata": {
        "id": "HqhB4CtFc_dO"
      }
    },
    {
      "cell_type": "markdown",
      "source": [
        "For a fixed value of IQ and GPA, college graduates earn more, on average, than high school graduates. This happens because, even though the interaction of GPA and level is negative, its impact in the starting salary is much lower than the impact of GPA and level alone."
      ],
      "metadata": {
        "id": "cnsB02cHdClO"
      }
    },
    {
      "cell_type": "markdown",
      "source": [
        "### b)"
      ],
      "metadata": {
        "id": "D0VQbZfFd_yu"
      }
    },
    {
      "cell_type": "code",
      "execution_count": 2,
      "metadata": {
        "colab": {
          "base_uri": "https://localhost:8080/"
        },
        "id": "AmoJxGPRbE6Z",
        "outputId": "c6e44d36-54d6-4143-e9ba-380bbf3deec5"
      },
      "outputs": [
        {
          "output_type": "stream",
          "name": "stdout",
          "text": [
            "The predicted starting salary is: US$ 137100.0\n"
          ]
        }
      ],
      "source": [
        "b0 = 50\n",
        "b1 = 20\n",
        "b2 = 0.07\n",
        "b3 = 35\n",
        "b4 = 0.01\n",
        "b5 = -10\n",
        "\n",
        "GPA=4.0\n",
        "IQ=110\n",
        "level=1\n",
        "starting_salary = b0+b1*GPA+b2*IQ+b3*level+b4*GPA*IQ+b5*GPA*level\n",
        "print(\"The predicted starting salary is: US$\", 1000*starting_salary)"
      ]
    },
    {
      "cell_type": "markdown",
      "source": [
        "### c)"
      ],
      "metadata": {
        "id": "Hgkfrv1bebfP"
      }
    },
    {
      "cell_type": "markdown",
      "source": [
        "The fact that $\\hat{\\beta_3}$ is close to 0 is not enough evidence that the interection of GPA and IQ does not affect the starting salary. For making such a claim, its p-value would have to be analysed. Beyond that, considering that the IQ is, on average, close to a hundred, this interaction increases the impact of the GPA by 5%."
      ],
      "metadata": {
        "id": "TXCHwJZnf5p3"
      }
    },
    {
      "cell_type": "markdown",
      "source": [
        "## Question 4"
      ],
      "metadata": {
        "id": "ypL4nQ_GhRaI"
      }
    },
    {
      "cell_type": "markdown",
      "source": [
        "### a)"
      ],
      "metadata": {
        "id": "4HApZfj-hS0A"
      }
    },
    {
      "cell_type": "markdown",
      "source": [
        "Both models would have a very low RSS in the training dataset, but we expect the cubic model to have the lowest one, since the quadratic and cubic components would probably wrongly catch some of the irreducible error and treat it as part of the function."
      ],
      "metadata": {
        "id": "cOKlWQEuhUIQ"
      }
    },
    {
      "cell_type": "markdown",
      "source": [
        "### b)"
      ],
      "metadata": {
        "id": "bM9ur544iBxp"
      }
    },
    {
      "cell_type": "markdown",
      "source": [
        "As for the testing RSS, we expect the cubic model to have the highest, since it overfitted to training dataset."
      ],
      "metadata": {
        "id": "lsXCi1r5iGCQ"
      }
    },
    {
      "cell_type": "markdown",
      "source": [
        "### c)"
      ],
      "metadata": {
        "id": "ZjVI7c4YiUQA"
      }
    },
    {
      "cell_type": "markdown",
      "source": [
        "Considering a non-linear response, we expect the cubic model to have a better training RSS, since it is more flexible than the linear model. In this situation, it is very likely that the increase in variance is more than compensated by the loss in bias."
      ],
      "metadata": {
        "id": "FvZxMHSuimlI"
      }
    },
    {
      "cell_type": "markdown",
      "source": [
        "### d)"
      ],
      "metadata": {
        "id": "Bbt8VhpXi_6J"
      }
    },
    {
      "cell_type": "markdown",
      "source": [
        "This effect is also expected in the test RSS for a similar reason."
      ],
      "metadata": {
        "id": "mEEI9Sj5jBxJ"
      }
    },
    {
      "cell_type": "markdown",
      "source": [
        "## Question 5"
      ],
      "metadata": {
        "id": "ObXj7hhNjI45"
      }
    },
    {
      "cell_type": "markdown",
      "source": [],
      "metadata": {
        "id": "iJBsl-DSjMUR"
      }
    }
  ]
}